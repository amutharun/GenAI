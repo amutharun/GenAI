{
  "nbformat": 4,
  "nbformat_minor": 0,
  "metadata": {
    "colab": {
      "provenance": [],
      "include_colab_link": true
    },
    "kernelspec": {
      "name": "python3",
      "display_name": "Python 3"
    },
    "language_info": {
      "name": "python"
    }
  },
  "cells": [
    {
      "cell_type": "markdown",
      "metadata": {
        "id": "view-in-github",
        "colab_type": "text"
      },
      "source": [
        "<a href=\"https://colab.research.google.com/github/amutharun/GenAI/blob/main/Embeddings_%2B_Langchain_%3D_Embedchain.ipynb\" target=\"_parent\"><img src=\"https://colab.research.google.com/assets/colab-badge.svg\" alt=\"Open In Colab\"/></a>"
      ]
    },
    {
      "cell_type": "markdown",
      "source": [
        "More details - https://github.com/embedchain/embedchain"
      ],
      "metadata": {
        "id": "XPmBz2Wll_W_"
      }
    },
    {
      "cell_type": "markdown",
      "source": [
        "Install embedchain library"
      ],
      "metadata": {
        "id": "u4ZOgCYGmFIK"
      }
    },
    {
      "cell_type": "code",
      "source": [
        "! pip install -q embedchain"
      ],
      "metadata": {
        "id": "1RDcd9HemALi"
      },
      "execution_count": null,
      "outputs": []
    },
    {
      "cell_type": "markdown",
      "source": [
        "# Setup OpenAI Key"
      ],
      "metadata": {
        "id": "4QXHNezglpAK"
      }
    },
    {
      "cell_type": "code",
      "source": [
        "import os\n",
        "os.environ['OPENAI_API_KEY'] = 'sk-xxx' #environment variables"
      ],
      "metadata": {
        "id": "gkM6IjLXmWsZ"
      },
      "execution_count": null,
      "outputs": []
    },
    {
      "cell_type": "markdown",
      "source": [
        "# Load embedchain"
      ],
      "metadata": {
        "id": "Wjku7UiZmf1J"
      }
    },
    {
      "cell_type": "code",
      "source": [
        "from embedchain import App"
      ],
      "metadata": {
        "id": "bsfsCMc9mezs"
      },
      "execution_count": null,
      "outputs": []
    },
    {
      "cell_type": "markdown",
      "source": [
        "# Instantiate your BOT App"
      ],
      "metadata": {
        "id": "20KFcJE0mknN"
      }
    },
    {
      "cell_type": "code",
      "source": [
        "naval_bot = App()"
      ],
      "metadata": {
        "id": "S-bNfugQmkFU"
      },
      "execution_count": null,
      "outputs": []
    },
    {
      "cell_type": "markdown",
      "source": [
        "# Add Online Resources"
      ],
      "metadata": {
        "id": "mOhtAkctm88j"
      }
    },
    {
      "cell_type": "code",
      "source": [
        "# Embed Online Resources\n",
        "naval_bot.add(\"youtube_video\", \"https://www.youtube.com/watch?v=3qHkcs3kG44\")\n",
        "naval_bot.add(\"pdf_file\", \"https://navalmanack.s3.amazonaws.com/Eric-Jorgenson_The-Almanack-of-Naval-Ravikant_Final.pdf\")\n",
        "naval_bot.add(\"web_page\", \"https://nav.al/feedback\")\n",
        "naval_bot.add(\"web_page\", \"https://nav.al/agi\")"
      ],
      "metadata": {
        "colab": {
          "base_uri": "https://localhost:8080/"
        },
        "id": "4EDxRU9WmxWx",
        "outputId": "4ed6a856-e348-4da6-cebb-2b4803387376"
      },
      "execution_count": null,
      "outputs": [
        {
          "output_type": "stream",
          "name": "stdout",
          "text": [
            "Successfully saved https://www.youtube.com/watch?v=3qHkcs3kG44. Total chunks count: 73\n",
            "Successfully saved https://navalmanack.s3.amazonaws.com/Eric-Jorgenson_The-Almanack-of-Naval-Ravikant_Final.pdf. Total chunks count: 468\n",
            "Successfully saved https://nav.al/feedback. Total chunks count: 474\n",
            "Successfully saved https://nav.al/agi. Total chunks count: 478\n"
          ]
        }
      ]
    },
    {
      "cell_type": "code",
      "source": [
        "help(naval_bot.add)"
      ],
      "metadata": {
        "id": "tZY84Ix7b1uC"
      },
      "execution_count": null,
      "outputs": []
    },
    {
      "cell_type": "markdown",
      "source": [
        "Add Local Questions"
      ],
      "metadata": {
        "id": "54nWF0DlnhIX"
      }
    },
    {
      "cell_type": "code",
      "source": [
        "# Embed Local Resources\n",
        "naval_bot.add_local(\"qna_pair\", (\"Who is Naval Ravikant?\", \"Naval Ravikant is an Indian-American entrepreneur and investor.\"))"
      ],
      "metadata": {
        "colab": {
          "base_uri": "https://localhost:8080/"
        },
        "id": "m1k7tYYwm5_B",
        "outputId": "584ba312-707c-4659-b499-247b9e95de5e"
      },
      "execution_count": null,
      "outputs": [
        {
          "output_type": "stream",
          "name": "stdout",
          "text": [
            "Successfully saved ('Who is Naval Ravikant?', 'Naval Ravikant is an Indian-American entrepreneur and investor.'). Total chunks count: 479\n"
          ]
        }
      ]
    },
    {
      "cell_type": "markdown",
      "source": [
        "# Start Questioning!"
      ],
      "metadata": {
        "id": "g0N6lkKbnwBN"
      }
    },
    {
      "cell_type": "code",
      "source": [
        "print(naval_bot.query(\"how to mitigate potential job losses?\"))\n"
      ],
      "metadata": {
        "colab": {
          "base_uri": "https://localhost:8080/"
        },
        "id": "ZzUR0ytrnlwe",
        "outputId": "6fb365c4-bb0e-4b44-a2f5-d92b64bd3bbf"
      },
      "execution_count": null,
      "outputs": [
        {
          "output_type": "stream",
          "name": "stdout",
          "text": [
            "To mitigate potential job losses, it is important to focus on building wealth and avoiding total catastrophic loss. This can be done by staying out of physically dangerous situations and taking care of your health. Additionally, it is advisable to avoid putting all your savings or capital at risk and instead make rational and optimistic bets with high potential returns. By choosing jobs, careers, or fields that offer more stability and considering the deals you accept from your employer, you can also increase your chances of maintaining job security.\n"
          ]
        }
      ]
    },
    {
      "cell_type": "code",
      "source": [
        "print(naval_bot.query(\"What do you think about fame and wealth?\"))\n"
      ],
      "metadata": {
        "colab": {
          "base_uri": "https://localhost:8080/"
        },
        "id": "2FL7MJewn4iW",
        "outputId": "c9bbea65-243d-413e-a1da-dd9a2b5c61e6"
      },
      "execution_count": null,
      "outputs": [
        {
          "output_type": "stream",
          "name": "stdout",
          "text": [
            "Based on the given context, the speaker seems to have mixed feelings about fame and wealth. They mention being resentful at times when approached in public, but also express gratitude for their success. They also mention wanting to be wealthy, happy, and healthy, which suggests a desire for both fame and wealth. Overall, it is unclear what their exact thoughts and feelings are about fame and wealth.\n"
          ]
        }
      ]
    },
    {
      "cell_type": "code",
      "source": [
        "print(naval_bot.query(\"What is a better alternative to UBI?\"))\n"
      ],
      "metadata": {
        "colab": {
          "base_uri": "https://localhost:8080/"
        },
        "id": "C5-vr_PooCIQ",
        "outputId": "a1e9c085-d1db-4083-da62-3d7e6f8687b9"
      },
      "execution_count": null,
      "outputs": [
        {
          "output_type": "stream",
          "name": "stdout",
          "text": [
            "The speaker suggests that a better alternative to Universal Basic Income (UBI) is to establish a set of basic substance services, such as housing, food, transportation, internet access, and a phone, and provide them in abundance through technology-based automation. Additionally, the speaker believes that education is key and that adults can be re-educated quickly.\n"
          ]
        }
      ]
    },
    {
      "cell_type": "code",
      "source": [],
      "metadata": {
        "id": "mBw7sFMcrLKI"
      },
      "execution_count": null,
      "outputs": []
    }
  ]
}